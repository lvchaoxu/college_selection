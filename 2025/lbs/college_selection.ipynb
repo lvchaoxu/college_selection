{
 "cells": [
  {
   "cell_type": "markdown",
   "source": [
    "**策略** 民办本科和公办专科，民办本科好像可以挑专业，不过学费较贵，公办专科则尽量找订单班\n",
    "1. 滤掉中外合作办学和不合适的城市名，小语种\n",
    "2. 根据投递最低分过滤掉不合适的院校，得到去年投档线在448-467分，排名在17500-207066以内的院校专业\n",
    "目前分数491，排名区间在189933-191536\n",
    "类别  建议排名区间    去年分数区间 志愿分配\n",
    "冲   175000-190000    467-458       20\n",
    "稳   190000-207066    457-448       45"
   ],
   "metadata": {
    "collapsed": false
   },
   "id": "2f232ac63350ec5d"
  },
  {
   "cell_type": "code",
   "outputs": [],
   "source": [
    "import pandas as pd\n",
    "\n",
    "df = pd.read_excel(\"../24年院校专业投档线.xlsx\",\n",
    "                   dtype={\"院校代号\": \"Int64\",\n",
    "                          \"专业代号\": \"string\",\n",
    "                          \"院校名\": \"string\",\n",
    "                          \"城市名\": \"string\",\n",
    "                          \"院校类别\": \"string\",\n",
    "                          \"专业\": \"string\",\n",
    "                          \"专业注释\": \"string\",\n",
    "                          \"投档最低分\": \"Int64\"})"
   ],
   "metadata": {
    "collapsed": true,
    "ExecuteTime": {
     "end_time": "2025-06-27T10:39:06.282960Z",
     "start_time": "2025-06-27T10:39:04.705315Z"
    }
   },
   "id": "initial_id",
   "execution_count": 79
  },
  {
   "cell_type": "code",
   "outputs": [],
   "source": [
    "# 过滤掉中外合作办学和不合适的城市名\n",
    "df = df[(~df['专业注释'].isin(\n",
    "    ['中外合作办学', '中日联合培养', '中英双语创新班', '全英语教学班', '国际班', '国际课程班', '对外汉语'])) | (\n",
    "            df['专业注释'].isna())]\n",
    "\n",
    "df = df[(df['城市名'].isna()) | (\n",
    "    ~df['城市名'].isin(['边防军人子女预科班', '爱尔兰校区', '按高考文化课成绩录取的艺术类专业']))]"
   ],
   "metadata": {
    "collapsed": false,
    "ExecuteTime": {
     "end_time": "2025-06-27T10:39:06.297963Z",
     "start_time": "2025-06-27T10:39:06.283961Z"
    }
   },
   "id": "53276657edd20d29",
   "execution_count": 80
  },
  {
   "cell_type": "code",
   "outputs": [],
   "source": [
    "def categorize(score: int) -> str:\n",
    "    if 458 <= score <= 467:\n",
    "        return \"冲\"\n",
    "    elif 448 <= score <= 457:\n",
    "        return \"稳\""
   ],
   "metadata": {
    "collapsed": false,
    "ExecuteTime": {
     "end_time": "2025-06-27T10:39:06.313962Z",
     "start_time": "2025-06-27T10:39:06.300966Z"
    }
   },
   "id": "59cec8d62c18b5c4",
   "execution_count": 81
  },
  {
   "cell_type": "code",
   "outputs": [],
   "source": [
    "# 过滤分数\n",
    "df = df[(df['投档最低分'] >= 433) & (df['投档最低分'] <= 467)\n",
    "        ].sort_values(by='投档最低分', ascending=False)\n",
    "# 过滤中外合作办学\n",
    "df['投档类型'] = df['投档最低分'].apply(categorize)"
   ],
   "metadata": {
    "collapsed": false,
    "ExecuteTime": {
     "end_time": "2025-06-27T10:39:06.329960Z",
     "start_time": "2025-06-27T10:39:06.317961Z"
    }
   },
   "id": "b6cde575a60def61",
   "execution_count": 82
  },
  {
   "cell_type": "code",
   "outputs": [],
   "source": [
    "df.to_excel(\"./院校筛选.xlsx\", index=False)"
   ],
   "metadata": {
    "collapsed": false,
    "ExecuteTime": {
     "end_time": "2025-06-27T10:39:06.515960Z",
     "start_time": "2025-06-27T10:39:06.331966Z"
    }
   },
   "id": "30e489f14cf531e3",
   "execution_count": 83
  }
 ],
 "metadata": {
  "kernelspec": {
   "display_name": "Python 3",
   "language": "python",
   "name": "python3"
  },
  "language_info": {
   "codemirror_mode": {
    "name": "ipython",
    "version": 2
   },
   "file_extension": ".py",
   "mimetype": "text/x-python",
   "name": "python",
   "nbconvert_exporter": "python",
   "pygments_lexer": "ipython2",
   "version": "2.7.6"
  }
 },
 "nbformat": 4,
 "nbformat_minor": 5
}
