{
 "cells": [
  {
   "cell_type": "markdown",
   "source": [
    "1. 过滤掉民办院校和独立学院，只取公办院校（考公务员、事业编限制）\n",
    "2. 根据投递最低分过滤掉不合适的院校，得到去年投档线在495-525分，排名在85000-130000以内的院校专业\n",
    "目前分数534，排名区间在103049-104591\n",
    "类别  建议排名区间    去年分数区间 志愿分配\n",
    "冲   85000-103000     525-513       20\n",
    "稳   103000-110000    512-508       45\n",
    "保   11000-130000     507-495       30\n",
    "3. 根据 医学、会计、师范 专业大类 过滤得到合适的院校专业\n",
    "4. 根据个人的地域、院校、专业偏好过滤掉不合适的院校专业，根据冲稳保三类（大致20/45/30比例）总共挑选96个院校专业志愿，先按照投档最低分倒序排序，再按照个人院校专业偏好进行微调整"
   ],
   "metadata": {
    "collapsed": false
   },
   "id": "2f232ac63350ec5d"
  },
  {
   "cell_type": "code",
   "outputs": [],
   "source": [
    "import pandas as pd\n",
    "\n",
    "df = pd.read_excel(\"../20240722163024_933.xlsx\",\n",
    "                   header=None,\n",
    "                   usecols=\"A:E\",\n",
    "                   skiprows=5,\n",
    "                   nrows=18281,\n",
    "                   names=[\"院校代号\", \"院校名称\", \"专业代号\", \"专业名称\", \"投档最低分\"],\n",
    "                   dtype={\"院校代号\": \"Int64\",\n",
    "                          \"投档最低分\": \"Int64\",\n",
    "                          \"专业代号\": \"string\",\n",
    "                          \"院校名称\": \"string\",\n",
    "                          \"专业名称\": \"string\"})"
   ],
   "metadata": {
    "collapsed": true,
    "ExecuteTime": {
     "end_time": "2025-06-25T17:25:47.728204Z",
     "start_time": "2025-06-25T17:25:46.060135Z"
    }
   },
   "id": "initial_id",
   "execution_count": 101
  },
  {
   "cell_type": "code",
   "outputs": [],
   "source": [
    "def categorize(score: int) -> str:\n",
    "    if 513 <= score <= 525:\n",
    "        return \"冲\"\n",
    "    elif 508 <= score <= 512:\n",
    "        return \"稳\"\n",
    "    else:\n",
    "        return \"保\""
   ],
   "metadata": {
    "collapsed": false,
    "ExecuteTime": {
     "end_time": "2025-06-25T17:25:47.744209Z",
     "start_time": "2025-06-25T17:25:47.729205Z"
    }
   },
   "id": "59cec8d62c18b5c4",
   "execution_count": 102
  },
  {
   "cell_type": "code",
   "outputs": [],
   "source": [
    "df = df[(df['院校名称'].str.contains('公办', na=False)) & \\\n",
    "        ((df['投档最低分'] >= 495) & (df['投档最低分'] <= 525))\n",
    "        ].sort_values(by='投档最低分', ascending=False)\n",
    "\n",
    "df['投档类型'] = df['投档最低分'].apply(categorize)"
   ],
   "metadata": {
    "collapsed": false,
    "ExecuteTime": {
     "end_time": "2025-06-25T17:25:47.806209Z",
     "start_time": "2025-06-25T17:25:47.794208Z"
    }
   },
   "id": "b6cde575a60def61",
   "execution_count": 103
  },
  {
   "cell_type": "code",
   "outputs": [],
   "source": [
    "# 师范专业\n",
    "df[df['专业名称'].str.contains('师范')].to_excel(\"./师范院校专业推荐.xlsx\", index=False)"
   ],
   "metadata": {
    "collapsed": false,
    "ExecuteTime": {
     "end_time": "2025-06-25T17:25:48.314342Z",
     "start_time": "2025-06-25T17:25:48.292342Z"
    }
   },
   "id": "5f2ba7e3c177b42",
   "execution_count": 104
  },
  {
   "cell_type": "code",
   "outputs": [],
   "source": [
    "# 会计学专业\n",
    "df[df['专业名称'].str.contains('会计学|财务管理|审计学|财政学|税收学|金融学|经济学')].to_excel(\n",
    "    \"./会计院校专业推荐.xlsx\", index=False)"
   ],
   "metadata": {
    "collapsed": false,
    "ExecuteTime": {
     "end_time": "2025-06-25T17:25:48.693535Z",
     "start_time": "2025-06-25T17:25:48.667536Z"
    }
   },
   "id": "f9df397b8b04a3de",
   "execution_count": 105
  },
  {
   "cell_type": "code",
   "outputs": [],
   "source": [
    "# 医学专业\n",
    "medical_majors = {'医学影像技术',\n",
    "                  '医学检验技术',\n",
    "                  '医学实验技术',\n",
    "                  '口腔医学技术',\n",
    "                  '法医学',\n",
    "                  '预防医学',\n",
    "                  '中西医临床医',\n",
    "                  '中医康复学',\n",
    "                  '中医骨伤科学',\n",
    "                  '中西医临床医学'}\n",
    "df[df['专业名称'].isin(medical_majors)].to_excel(\"./医学专业推荐.xlsx\", index=False)"
   ],
   "metadata": {
    "collapsed": false,
    "ExecuteTime": {
     "end_time": "2025-06-25T17:25:49.071533Z",
     "start_time": "2025-06-25T17:25:49.046534Z"
    }
   },
   "id": "7f0fb8df04d76837",
   "execution_count": 106
  },
  {
   "cell_type": "code",
   "outputs": [],
   "source": [
    "# 理工科专业\n",
    "tech_majors = {\n",
    "    \"计算机科学与技术\",\n",
    "    \"电子信息工程\",\n",
    "    \"电子信息科学与技术\",\n",
    "    \"电气工程及其自动化\",\n",
    "    \"自动化\"\n",
    "}\n",
    "df[df['专业名称'].isin(tech_majors)].to_excel(\"./理工专业推荐.xlsx\", index=False)"
   ],
   "metadata": {
    "collapsed": false,
    "ExecuteTime": {
     "end_time": "2025-06-25T17:25:49.576535Z",
     "start_time": "2025-06-25T17:25:49.538532Z"
    }
   },
   "id": "c2d3852812654cf7",
   "execution_count": 107
  }
 ],
 "metadata": {
  "kernelspec": {
   "display_name": "Python 3",
   "language": "python",
   "name": "python3"
  },
  "language_info": {
   "codemirror_mode": {
    "name": "ipython",
    "version": 2
   },
   "file_extension": ".py",
   "mimetype": "text/x-python",
   "name": "python",
   "nbconvert_exporter": "python",
   "pygments_lexer": "ipython2",
   "version": "2.7.6"
  }
 },
 "nbformat": 4,
 "nbformat_minor": 5
}
